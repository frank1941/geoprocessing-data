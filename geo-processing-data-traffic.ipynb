{
 "cells": [
  {
   "cell_type": "code",
   "execution_count": null,
   "metadata": {},
   "outputs": [],
   "source": [
    "import pandas as pd\n",
    "import geopandas as gpd\n",
    "import calendar\n",
    "import os "
   ]
  },
  {
   "cell_type": "code",
   "execution_count": null,
   "metadata": {},
   "outputs": [],
   "source": [
    "def DataReportPerDay(df,month):\n",
    "    BASEDIR1 = r'E:\\PROMTEL-IPN\\RESULTADOS_TRAFICO\\data_trafico_spark\\Resultados'\n",
    "    gdf = gpd.read_file(os.path.join(BASEDIR1,'Final_toESRI_QoSCategorias_1y2Trim_v2.geojson'))\n",
    "    \n",
    "    BASEDIR2 = r'E:\\PROMTEL-IPN\\RESULTADOS_TRAFICO\\data_trafico_spark\\RegionsPolygons_v1'\n",
    "    gdfreg = gpd.read_file(os.path.join(BASEDIR2,'Regiones_MX_22102018_region.shp'))\n",
    "    gdfreg.to_crs('epsg:4326',inplace=True)\n",
    "\n",
    "    gdfMun = gdf[['Entidad_ID', 'Entidad_Name', 'Municipio_ID', 'Municipio_Name','geometry']].drop_duplicates(subset='Municipio_ID')\n",
    "    gdfPerDay = gpd.GeoDataFrame(df,geometry=gpd.points_from_xy(x=df['cast(ctgs.longitud as decimal(9,5))'], y = df['cast(ctgs.latitud as decimal(9,5))'], crs='epsg:4326'))\n",
    "\n",
    "    gdfJoined = gpd.sjoin(gdfPerDay,gdfMun,how='left')\n",
    "    gdfJoined.drop('index_right',axis=1,inplace=True)\n",
    "    \n",
    "    gdfJoined['fecha'] = pd.to_datetime(gdfJoined['fecha'])\n",
    "    gdfJoined['Trimestre'] = gdfJoined['fecha'].dt.quarter#.apply(lambda x: (month -1) //3,axis=1)\n",
    "    gdfJoined['Trimestre'] = gdfJoined.apply(lambda x: str(x['Trimestre']) + ' T',axis=1)\n",
    "\n",
    "    gdfJoined['Año'] = gdfJoined['fecha'].dt.year\n",
    "    gdfJoined['Mes'] = calendar.month_name[month]\n",
    "    gdfJoined['Semana'] = gdfJoined[\"fecha\"].dt.week\n",
    "\n",
    "    gdfJoinedReg = gpd.sjoin(gdfJoined,gdfreg,how='left')\n",
    "    gdfJoinedReg.rename(columns={'Reg':'Region'},inplace=True)\n",
    "    \n",
    "\n",
    "    gdfJoinedReg['Tráfico_Total'] = gdfJoined['tl_thrp_bits_dl'] + gdfJoined['tl_thrp_bits_ul']\n",
    "\n",
    "    print(gdfJoinedReg.columns)\n",
    "\n",
    "    columns = ['altan_site_id', 'Entidad_ID', 'Entidad_Name', 'Municipio_ID', 'Municipio_Name',  'vendor',  'Año', 'Trimestre', 'Mes', 'Semana',\n",
    "               'fecha',  'tl_thrp_bits_dl', 'tl_thrp_bits_ul','Tráfico_Total', 'Region' ]\n",
    "    dfJoined = gdfJoinedReg[columns]\n",
    "    dfJoined.rename(columns = {'altan_site_id':'Site_ID', 'vendor':'Vendor','Fecha':'Dia', 'tl_thrp_bits_dl':'Trafico_DL', 'tl_thrp_bits_ul':'Trafico_UL'},inplace=True)\n",
    "    Name= 'TETraficoSitios2024'+calendar.month_name[month]\n",
    "    dfJoined.to_csv(Name+'.csv',encoding='utf-8-sig')\n",
    "    return dfJoined"
   ]
  }
 ],
 "metadata": {
  "language_info": {
   "name": "python"
  }
 },
 "nbformat": 4,
 "nbformat_minor": 2
}
